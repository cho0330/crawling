{
 "cells": [
  {
   "cell_type": "code",
   "execution_count": null,
   "id": "01d86bca-b722-477a-8581-d079ea19e27c",
   "metadata": {},
   "outputs": [],
   "source": [
    "import pandas as pd\n",
    "import datetime\n",
    "import time\n",
    "\n",
    "from bs4 import BeautifulSoup\n",
    "from selenium import webdriver\n",
    "from selenium.webdriver.common.by import By\n",
    "from selenium.webdriver.common.keys import Keys\n",
    "\n",
    "from html_table_parser import parser_functions as parser\n",
    "\n",
    "from IPython.display import clear_output"
   ]
  },
  {
   "cell_type": "code",
   "execution_count": null,
   "id": "3d025923-5a20-404a-861b-5c4c189803fb",
   "metadata": {},
   "outputs": [],
   "source": [
    "def loading_check(desc=''):\n",
    "    while(True):\n",
    "        \n",
    "        time.sleep(1) \n",
    "        html = driver.page_source\n",
    "        soup = BeautifulSoup(html, 'html.parser')    \n",
    "        print(\"===> \", desc , \" \" , soup.select('#body > div.loadingMask.on'))\n",
    "        \n",
    "        if len(soup.select('#body > div.loadingMask.on')) == 0 :\n",
    "            break        \n",
    "        "
   ]
  },
  {
   "cell_type": "code",
   "execution_count": null,
   "id": "faaf0816-d8b5-4f86-9958-ec704fffff7e",
   "metadata": {},
   "outputs": [],
   "source": [
    "def move_page(curr_page, last_page, btn_id, mode=None):\n",
    "    # 메인화면 : sbGridPaging, 서브화면 : sbGridPaging2\n",
    "    \n",
    "    # print(f'!!! {curr_page}, {last_page}, {btn_id}')\n",
    "    \n",
    "    if curr_page == last_page:\n",
    "        if btn_id == \"sbGridPaging\" and mode == \"restart\":\n",
    "            print(f'{curr_page} 까지 이동을 완료하였습니다.')\n",
    "        elif btn_id == \"sbGridPaging\":\n",
    "            print(\"메인의 마지막 페이지 입니다.\")\n",
    "        elif btn_id == \"sbGridPaging2\":\n",
    "            print(\"     \", curr_page, \" 서브의 마지막 페이지 입니다.\")  \n",
    "    elif curr_page == 10 :\n",
    "        # 10페이지일때 다음버튼 클릭\n",
    "        # print(\"111 next : \", driver.find_element(By.XPATH, f'//*[@id=\"{btn_id}\"]/ol/a[1]/li/button').text)\n",
    "        driver.find_element(By.XPATH, f'//*[@id=\"{btn_id}\"]/ol/a[1]/li/button').send_keys(Keys.ENTER)\n",
    "        loading_check(curr_page)\n",
    "    elif curr_page%10 == 0 :\n",
    "        # 20, 30, ... 페이지일때 다음버튼 클릭\n",
    "        # print(\"222 next : \", driver.find_element(By.XPATH, f'//*[@id=\"{btn_id}\"]/ol/a[3]/li/button').text)\n",
    "        driver.find_element(By.XPATH, f'//*[@id=\"{btn_id}\"]/ol/a[3]/li/button').send_keys(Keys.ENTER)\n",
    "        loading_check(curr_page)\n",
    "    else:\n",
    "        # print(\"333 next : \", driver.find_element(By.XPATH, f'//*[@id=\"{btn_id}\"]/ol/li[{(curr_page%10)+1}]').text)\n",
    "        # driver.find_element(By.XPATH, f'//*[@id=\"{btn_id}\"]/ol/li[{(curr_page%10)+1}]').click()\n",
    "        driver.find_element(By.XPATH, f'//*[@id=\"{btn_id}\"]/ol/li[{(curr_page%10)+1}]/button').send_keys(Keys.ENTER)\n",
    "        loading_check(curr_page)"
   ]
  },
  {
   "cell_type": "code",
   "execution_count": null,
   "id": "67e3efd9-4d00-4354-bb5d-a5c075bef177",
   "metadata": {},
   "outputs": [],
   "source": [
    "def get_subdata():\n",
    "    \n",
    "    print(\"    --- 보조사업목록 조회 start \", datetime.datetime.now(), \" ---\")  \n",
    "    \n",
    "    sub_data = []\n",
    "    search_cnt2 = int(driver.find_element(By.XPATH, f'//*[@id=\"IH001002Q_searchCnt2\"]').text)\n",
    "    \n",
    "    # 조회된 보조사업 목록이 있음\n",
    "    if search_cnt2 != 0:                \n",
    "            \n",
    "        total_page2 = driver.find_element(By.XPATH, f'//*[@id=\"IH001002Q_totalPage2\"]').text.split('/')\n",
    "        total_page2 = list(map(int, total_page2))\n",
    "        \n",
    "        # 조회된 보조사업 페이지수만큼 보조사업내용 가져오기\n",
    "        for currPage_sub in range(1, total_page2[1]+1):\n",
    "            \n",
    "            # 현재보조사업내용 가져오기\n",
    "            soup_sub = BeautifulSoup(driver.page_source, 'html.parser')\n",
    "            tbl_sub = soup_sub.select('#SBHE_DATAGRID_WHOLE_TABLE_IH001002QSubGridObj')\n",
    "            parse_sub = parser.make2d(tbl_sub[0])\n",
    "\n",
    "            sub_data = sub_data + parse_sub[3:]\n",
    "            \n",
    "            # 페이지 이동\n",
    "            move_page(currPage_sub, total_page2[1], \"sbGridPaging2\")\n",
    "            \n",
    "            if currPage_sub == total_page2[1] and len(sub_data) == search_cnt2:\n",
    "                print(\"    --- 보조사업목록 조회 finish \", datetime.datetime.now(), \" ---\") \n",
    "    else: \n",
    "        sub_data = [['', '', '', '', '', '', '', '']]\n",
    "        print(\"    --- 보조사업목록 조회 finish \",sub_data, \" \", datetime.datetime.now(), \" ---\")\n",
    "    \n",
    "    return sub_data"
   ]
  },
  {
   "cell_type": "markdown",
   "id": "04b70973-188f-4219-aadf-3cd789c83024",
   "metadata": {},
   "source": [
    "### 1. 페이지 불러오기"
   ]
  },
  {
   "cell_type": "code",
   "execution_count": null,
   "id": "6086e8f7-3ca4-441f-83a5-fb6082ae08c7",
   "metadata": {},
   "outputs": [],
   "source": [
    "options = webdriver.ChromeOptions()\n",
    "options.add_argument('headless') # 브라우저 창을 띄우지 않음\n",
    "# options.add_argument('window_size=1920x1080')\n",
    "# options.add_argument('--start-maximized')\n",
    "options.add_argument('disable-gpu')\n",
    "\n",
    "# page 불러오기\n",
    "driver = webdriver.Chrome('chromedriver.exe', chrome_options=options)\n",
    "driver.implicitly_wait(time_to_wait=60) # get할때만 동작, click에서는 안됨\n",
    "\n",
    "print(\"page load start \", datetime.datetime.now())\n",
    "driver.get(url=\"https://opn.gosims.go.kr/opn/ih/ih001/getIH001002QView.do\") \n",
    "print(\"page load finish \", datetime.datetime.now()) # implicitly_wait 확인이 끝날때까지 아래 함수는 동작하지 않음"
   ]
  },
  {
   "cell_type": "markdown",
   "id": "d062a03f-0c9f-427a-b555-d6e50b021f34",
   "metadata": {},
   "source": [
    "### 2. 메인사업 검색"
   ]
  },
  {
   "cell_type": "markdown",
   "id": "7a5de8bf-bdee-4a60-9da0-4be8095b1297",
   "metadata": {},
   "source": [
    "#### ↓↓↓ 검색조건 입력 ↓↓↓ "
   ]
  },
  {
   "cell_type": "code",
   "execution_count": null,
   "id": "a38f09d6-602b-4938-9231-bb3feac7f82a",
   "metadata": {},
   "outputs": [],
   "source": [
    "save_dir = \"./2020\" #저장할 디렉토리\n",
    "\n",
    "start_dt = \"2020\" # 검색 시작 회계연도\n",
    "end_dt = \"2020\" # 검색 종료 회계연도\n",
    "jrsdCode = \"문화재청\" # 중앙부처"
   ]
  },
  {
   "cell_type": "code",
   "execution_count": null,
   "id": "2103705b-549e-427e-839e-0e7cb28461c1",
   "metadata": {
    "tags": []
   },
   "outputs": [],
   "source": [
    "start_page = 1\n",
    "\n",
    "driver.find_element(By.XPATH, f'//*[@id=\"IH001002QFrmSrch_fromFsyr\"]/option[text()=\"{start_dt}\"]').click()\n",
    "loading_check()\n",
    "\n",
    "driver.find_element(By.XPATH, f'//*[@id=\"IH001002QFrmSrch_toFsyr\"]/option[text()=\"{end_dt}\"]').click()\n",
    "loading_check()\n",
    "\n",
    "driver.find_element(By.XPATH, f'//*[@id=\"IH001002QFrmSrch_jrsdCode\"]/option[text()=\"{jrsdCode}\"]').click()\n",
    "driver.find_element(By.XPATH, f'//*[@id=\"btnRetrieveAsbzDdtlbzStdCsts\"]').send_keys(Keys.ENTER)\n",
    "loading_check()\n",
    "\n",
    "print(driver.find_element(By.XPATH, f'//*[@id=\"IH001002Q_searchCnt\"]').text)\n",
    "print(driver.find_element(By.XPATH, f'//*[@id=\"IH001002Q_totalPage\"]').text)\n",
    "print(driver.find_element(By.XPATH, f'//*[@id=\"SBHE_DATAGRID_WHOLE_TBODY_IH001002QMainGridObj\"]/tr[2]').text.split('\\n')) # 2번부터\n",
    "# print(driver.find_element(By.XPATH, f'//*[@id=\"SBHE_IH001002QMainGridObj_1_2\"]').text) # 1번부터"
   ]
  },
  {
   "cell_type": "markdown",
   "id": "3a88b09c-39ce-48b0-abe5-36607b573ba0",
   "metadata": {},
   "source": [
    "### 2.1) ↓↓↓ 에러가 나서 다시 시작해야할 경우만 아래의 내용을 주석을 풀어서 수행한다. ↓↓↓\n",
    "ElementClickInterceptedException\n",
    "\n",
    "하던 중 에러가 날 경우, 해당 페이지까지 수동으로 이동을 해주어함\n",
    "\n",
    "ex)\n",
    "80번 페이지까지 csv파일이 생성되고 에러가 났다면  \n",
    "81번 페이지부터 시작해야하므로, 81번페이지까지 이동을 해주어야 한다."
   ]
  },
  {
   "cell_type": "code",
   "execution_count": null,
   "id": "4100773b-c1ad-4dd4-ba30-4281bd66dd08",
   "metadata": {},
   "outputs": [],
   "source": [
    "# start_page = 81\n",
    "\n",
    "# for currPage in range(1, start_page+1):\n",
    "#     # 메인화면 : sbGridPaging, 서브화면 : sbGridPaging2\n",
    "#     move_page(currPage, start_page, \"sbGridPaging\", \"restart\")   "
   ]
  },
  {
   "cell_type": "markdown",
   "id": "4e37530a-1e56-40f7-b964-859cbd995125",
   "metadata": {},
   "source": [
    "####   ↑↑↑ 에러가 나서 다시 시작해야할 경우만 수행"
   ]
  },
  {
   "cell_type": "code",
   "execution_count": null,
   "id": "8abfdfc9-dbf1-4230-89e7-3d016e46f19f",
   "metadata": {},
   "outputs": [],
   "source": [
    "# 현재 위치 확인\n",
    "driver.find_element(By.XPATH, f'//*[@id=\"IH001002Q_totalPage\"]').text.split('/')"
   ]
  },
  {
   "cell_type": "markdown",
   "id": "b8094fa2-ed02-4663-8783-11967e2af3b4",
   "metadata": {},
   "source": [
    "### 3. 메인목록 별 보조내역 수집"
   ]
  },
  {
   "cell_type": "code",
   "execution_count": null,
   "id": "0916e1bf-964a-4088-be78-deaa4ec148a7",
   "metadata": {},
   "outputs": [],
   "source": [
    "main_columns = [\"순번\", \"회계연도\", \"내역사업\", \"지출세목\", \"예산현액\", \"중앙부처\"]\n",
    "sub_columns = [\"순번\", \"보조사업\", \"보조사업차수\", \"보조사업자\", \"(사업비)국고보조금(단위:천원)\", \"(사업비)지자체부담금(단위:천원)\", \"(사업비)자기부담금(단위:천원)\", \"(사업비)기타부담금(단위:천원)\", \"(사업비)합계(단위:천원)\"]\n",
    "\n",
    "search_cnt = int(driver.find_element(By.XPATH, f'//*[@id=\"IH001002Q_searchCnt\"]').text)\n",
    "start_time = datetime.datetime.now()\n",
    "print(\"데이터 수집 start \", start_time)  "
   ]
  },
  {
   "cell_type": "code",
   "execution_count": null,
   "id": "15fb9eff-0174-4bb5-b812-0f1b772a11b6",
   "metadata": {},
   "outputs": [],
   "source": [
    "# 조회된 메인사업 목록이 있음\n",
    "if search_cnt != 0:\n",
    "    \n",
    "    totalPage = driver.find_element(By.XPATH, f'//*[@id=\"IH001002Q_totalPage\"]').text.split('/')\n",
    "    totalPage = list(map(int, totalPage))\n",
    "    \n",
    "    # 조회된 메인사업 페이지수만큼 메인내용 처리\n",
    "    for currPage in range(start_page, totalPage[1]+1):\n",
    "        clear_output(wait=True)\n",
    "        print(\"<< \", currPage, \" >>\")   \n",
    "        \n",
    "        currPage_data = []\n",
    "        \n",
    "        # 한 페이지에 있는 목록 갯수 구하기\n",
    "        curr_tbl = driver.find_element(By.XPATH, f'//*[@id=\"SBHE_DATAGRID_WHOLE_TBODY_IH001002QMainGridObj\"]')\n",
    "        curr_tbl_cnt = len(curr_tbl.find_elements(By.TAG_NAME, 'tr'))\n",
    "        \n",
    "        # 한 페이지에 있는 목록개수만큼 보조내역 읽기\n",
    "        for curr_row in range(1, curr_tbl_cnt):            \n",
    "            driver.find_element(By.XPATH, f'//*[@id=\"SBHE_IH001002QMainGridObj_{curr_row}_2\"]').click() # 현재 사업을 클릭\n",
    "            loading_check()\n",
    "\n",
    "            curr_main_data = [driver.find_element(By.XPATH, f'//*[@id=\"SBHE_DATAGRID_WHOLE_TBODY_IH001002QMainGridObj\"]/tr[{curr_row+1}]').text.split('\\n')]\n",
    "            print(curr_main_data)\n",
    "            \n",
    "            curr_sub_data = get_subdata()\n",
    "            \n",
    "            curr_row_merge = list(map(list.__add__, curr_main_data*len(curr_sub_data), curr_sub_data))\n",
    "            currPage_data = currPage_data + curr_row_merge\n",
    "            \n",
    "        currPage_df = pd.DataFrame(data = currPage_data, columns= main_columns+sub_columns)\n",
    "            \n",
    "        save_path = f'{save_dir}/{start_dt}_{end_dt}_{jrsdCode}_{currPage:0>3}.csv'\n",
    "\n",
    "        currPage_df.to_csv(save_path, index=False, encoding='utf-8-sig')       \n",
    "        \n",
    "         # 페이지 이동\n",
    "        move_page(currPage, totalPage[1], \"sbGridPaging\")\n",
    "\n",
    "print(\"데이터 수집 finish \", datetime.datetime.now(), \" 소요시간 : \", datetime.datetime.now() - start_time)  "
   ]
  }
 ],
 "metadata": {
  "kernelspec": {
   "display_name": "crawling",
   "language": "python",
   "name": ".crawling"
  },
  "language_info": {
   "codemirror_mode": {
    "name": "ipython",
    "version": 3
   },
   "file_extension": ".py",
   "mimetype": "text/x-python",
   "name": "python",
   "nbconvert_exporter": "python",
   "pygments_lexer": "ipython3",
   "version": "3.7.9"
  }
 },
 "nbformat": 4,
 "nbformat_minor": 5
}
